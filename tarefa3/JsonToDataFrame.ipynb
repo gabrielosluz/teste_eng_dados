{
 "cells": [
  {
   "cell_type": "code",
   "execution_count": 102,
   "id": "b54929a0",
   "metadata": {},
   "outputs": [],
   "source": [
    "import json  \n",
    "import pprint as pp\n",
    "from pandas.io.json import json_normalize"
   ]
  },
  {
   "cell_type": "code",
   "execution_count": 103,
   "id": "45ba2325",
   "metadata": {},
   "outputs": [],
   "source": [
    "with open('./data.json') as f:\n",
    "  data_js = json.load(f)"
   ]
  },
  {
   "cell_type": "code",
   "execution_count": 104,
   "id": "7e95ec66",
   "metadata": {},
   "outputs": [
    {
     "name": "stdout",
     "output_type": "stream",
     "text": [
      "[{'CreateDate': '2021-05-24T20:21:34.79',\n",
      "  'Discount': 0.0,\n",
      "  'EmissionDate': '2021-05-24T00:00:00',\n",
      "  'ItemList': [{'ProductName': 'Rice', 'Quantity': 2, 'Value': 35.55},\n",
      "               {'ProductName': 'Flour', 'Quantity': 5, 'Value': 11.55},\n",
      "               {'ProductName': 'Bean', 'Quantity': 7, 'Value': 27.15}],\n",
      "  'NFeID': 1,\n",
      "  'NFeNumber': 501},\n",
      " {'CreateDate': '2021-05-24T20:21:34.79',\n",
      "  'Discount': 0.0,\n",
      "  'EmissionDate': '2021-05-24T00:00:00',\n",
      "  'ItemList': [{'ProductName': 'Tomate', 'Quantity': 10, 'Value': 12.25},\n",
      "               {'ProductName': 'Pasta', 'Quantity': 5, 'Value': 7.55}],\n",
      "  'NFeID': 2,\n",
      "  'NFeNumber': 502},\n",
      " {'CreateDate': '2021-05-24T20:21:34.79',\n",
      "  'Discount': 0.0,\n",
      "  'EmissionDate': '2021-05-24T00:00:00',\n",
      "  'ItemList': [{'ProductName': 'Beer', 'Quantity': 6, 'Value': 9.0},\n",
      "               {'ProductName': 'French fries', 'Quantity': 2, 'Value': 10.99},\n",
      "               {'ProductName': 'Ice cream', 'Quantity': 1, 'Value': 27.15}],\n",
      "  'NFeID': 3,\n",
      "  'NFeNumber': 503}]\n"
     ]
    }
   ],
   "source": [
    "pp.pprint(data_js)"
   ]
  },
  {
   "cell_type": "code",
   "execution_count": 105,
   "id": "10ce9778",
   "metadata": {},
   "outputs": [
    {
     "name": "stderr",
     "output_type": "stream",
     "text": [
      "<ipython-input-105-b0924302dfc0>:1: FutureWarning: pandas.io.json.json_normalize is deprecated, use pandas.json_normalize instead\n",
      "  df = json_normalize(data=data_js, record_path='ItemList',\n"
     ]
    },
    {
     "data": {
      "text/html": [
       "<div>\n",
       "<style scoped>\n",
       "    .dataframe tbody tr th:only-of-type {\n",
       "        vertical-align: middle;\n",
       "    }\n",
       "\n",
       "    .dataframe tbody tr th {\n",
       "        vertical-align: top;\n",
       "    }\n",
       "\n",
       "    .dataframe thead th {\n",
       "        text-align: right;\n",
       "    }\n",
       "</style>\n",
       "<table border=\"1\" class=\"dataframe\">\n",
       "  <thead>\n",
       "    <tr style=\"text-align: right;\">\n",
       "      <th></th>\n",
       "      <th>ProductName</th>\n",
       "      <th>Value</th>\n",
       "      <th>Quantity</th>\n",
       "      <th>CreateDate</th>\n",
       "      <th>EmissionDate</th>\n",
       "      <th>Discount</th>\n",
       "      <th>NFeNumber</th>\n",
       "      <th>NFeID</th>\n",
       "    </tr>\n",
       "  </thead>\n",
       "  <tbody>\n",
       "    <tr>\n",
       "      <th>0</th>\n",
       "      <td>Rice</td>\n",
       "      <td>35.55</td>\n",
       "      <td>2</td>\n",
       "      <td>2021-05-24T20:21:34.79</td>\n",
       "      <td>2021-05-24T00:00:00</td>\n",
       "      <td>0.0</td>\n",
       "      <td>501</td>\n",
       "      <td>1</td>\n",
       "    </tr>\n",
       "    <tr>\n",
       "      <th>1</th>\n",
       "      <td>Flour</td>\n",
       "      <td>11.55</td>\n",
       "      <td>5</td>\n",
       "      <td>2021-05-24T20:21:34.79</td>\n",
       "      <td>2021-05-24T00:00:00</td>\n",
       "      <td>0.0</td>\n",
       "      <td>501</td>\n",
       "      <td>1</td>\n",
       "    </tr>\n",
       "    <tr>\n",
       "      <th>2</th>\n",
       "      <td>Bean</td>\n",
       "      <td>27.15</td>\n",
       "      <td>7</td>\n",
       "      <td>2021-05-24T20:21:34.79</td>\n",
       "      <td>2021-05-24T00:00:00</td>\n",
       "      <td>0.0</td>\n",
       "      <td>501</td>\n",
       "      <td>1</td>\n",
       "    </tr>\n",
       "    <tr>\n",
       "      <th>3</th>\n",
       "      <td>Tomate</td>\n",
       "      <td>12.25</td>\n",
       "      <td>10</td>\n",
       "      <td>2021-05-24T20:21:34.79</td>\n",
       "      <td>2021-05-24T00:00:00</td>\n",
       "      <td>0.0</td>\n",
       "      <td>502</td>\n",
       "      <td>2</td>\n",
       "    </tr>\n",
       "    <tr>\n",
       "      <th>4</th>\n",
       "      <td>Pasta</td>\n",
       "      <td>7.55</td>\n",
       "      <td>5</td>\n",
       "      <td>2021-05-24T20:21:34.79</td>\n",
       "      <td>2021-05-24T00:00:00</td>\n",
       "      <td>0.0</td>\n",
       "      <td>502</td>\n",
       "      <td>2</td>\n",
       "    </tr>\n",
       "    <tr>\n",
       "      <th>5</th>\n",
       "      <td>Beer</td>\n",
       "      <td>9.00</td>\n",
       "      <td>6</td>\n",
       "      <td>2021-05-24T20:21:34.79</td>\n",
       "      <td>2021-05-24T00:00:00</td>\n",
       "      <td>0.0</td>\n",
       "      <td>503</td>\n",
       "      <td>3</td>\n",
       "    </tr>\n",
       "    <tr>\n",
       "      <th>6</th>\n",
       "      <td>French fries</td>\n",
       "      <td>10.99</td>\n",
       "      <td>2</td>\n",
       "      <td>2021-05-24T20:21:34.79</td>\n",
       "      <td>2021-05-24T00:00:00</td>\n",
       "      <td>0.0</td>\n",
       "      <td>503</td>\n",
       "      <td>3</td>\n",
       "    </tr>\n",
       "    <tr>\n",
       "      <th>7</th>\n",
       "      <td>Ice cream</td>\n",
       "      <td>27.15</td>\n",
       "      <td>1</td>\n",
       "      <td>2021-05-24T20:21:34.79</td>\n",
       "      <td>2021-05-24T00:00:00</td>\n",
       "      <td>0.0</td>\n",
       "      <td>503</td>\n",
       "      <td>3</td>\n",
       "    </tr>\n",
       "  </tbody>\n",
       "</table>\n",
       "</div>"
      ],
      "text/plain": [
       "    ProductName  Value  Quantity              CreateDate         EmissionDate  \\\n",
       "0          Rice  35.55         2  2021-05-24T20:21:34.79  2021-05-24T00:00:00   \n",
       "1         Flour  11.55         5  2021-05-24T20:21:34.79  2021-05-24T00:00:00   \n",
       "2          Bean  27.15         7  2021-05-24T20:21:34.79  2021-05-24T00:00:00   \n",
       "3        Tomate  12.25        10  2021-05-24T20:21:34.79  2021-05-24T00:00:00   \n",
       "4         Pasta   7.55         5  2021-05-24T20:21:34.79  2021-05-24T00:00:00   \n",
       "5          Beer   9.00         6  2021-05-24T20:21:34.79  2021-05-24T00:00:00   \n",
       "6  French fries  10.99         2  2021-05-24T20:21:34.79  2021-05-24T00:00:00   \n",
       "7     Ice cream  27.15         1  2021-05-24T20:21:34.79  2021-05-24T00:00:00   \n",
       "\n",
       "  Discount NFeNumber NFeID  \n",
       "0      0.0       501     1  \n",
       "1      0.0       501     1  \n",
       "2      0.0       501     1  \n",
       "3      0.0       502     2  \n",
       "4      0.0       502     2  \n",
       "5      0.0       503     3  \n",
       "6      0.0       503     3  \n",
       "7      0.0       503     3  "
      ]
     },
     "execution_count": 105,
     "metadata": {},
     "output_type": "execute_result"
    }
   ],
   "source": [
    "df = json_normalize(data=data_js, record_path='ItemList', \n",
    "                            meta=['CreateDate', 'EmissionDate','Discount', 'NFeNumber', 'NFeID'])\n",
    "df.head(9)"
   ]
  },
  {
   "cell_type": "code",
   "execution_count": 106,
   "id": "875fad4d",
   "metadata": {},
   "outputs": [],
   "source": [
    "df_product = df[\"ProductName\"]"
   ]
  },
  {
   "cell_type": "code",
   "execution_count": 107,
   "id": "67ee6be8",
   "metadata": {},
   "outputs": [
    {
     "data": {
      "text/plain": [
       "0            Rice\n",
       "1           Flour\n",
       "2            Bean\n",
       "3          Tomate\n",
       "4           Pasta\n",
       "5            Beer\n",
       "6    French fries\n",
       "7       Ice cream\n",
       "Name: ProductName, dtype: object"
      ]
     },
     "execution_count": 107,
     "metadata": {},
     "output_type": "execute_result"
    }
   ],
   "source": [
    "df_product"
   ]
  },
  {
   "cell_type": "code",
   "execution_count": 108,
   "id": "a3e568d0",
   "metadata": {},
   "outputs": [],
   "source": [
    "df_product = df_product.to_frame().reset_index()\n",
    "df_product.reset_index(inplace=True)\n",
    "df_product['product_id'] = df_product.index\n",
    "df_product.index += 1 \n",
    "df_product['product_id'] += 1\n",
    "df_product = df_product.loc[:,'ProductName':'product_id']"
   ]
  },
  {
   "cell_type": "code",
   "execution_count": 109,
   "id": "fa954732",
   "metadata": {},
   "outputs": [
    {
     "data": {
      "text/html": [
       "<div>\n",
       "<style scoped>\n",
       "    .dataframe tbody tr th:only-of-type {\n",
       "        vertical-align: middle;\n",
       "    }\n",
       "\n",
       "    .dataframe tbody tr th {\n",
       "        vertical-align: top;\n",
       "    }\n",
       "\n",
       "    .dataframe thead th {\n",
       "        text-align: right;\n",
       "    }\n",
       "</style>\n",
       "<table border=\"1\" class=\"dataframe\">\n",
       "  <thead>\n",
       "    <tr style=\"text-align: right;\">\n",
       "      <th></th>\n",
       "      <th>ProductName</th>\n",
       "      <th>product_id</th>\n",
       "    </tr>\n",
       "  </thead>\n",
       "  <tbody>\n",
       "    <tr>\n",
       "      <th>1</th>\n",
       "      <td>Rice</td>\n",
       "      <td>1</td>\n",
       "    </tr>\n",
       "    <tr>\n",
       "      <th>2</th>\n",
       "      <td>Flour</td>\n",
       "      <td>2</td>\n",
       "    </tr>\n",
       "    <tr>\n",
       "      <th>3</th>\n",
       "      <td>Bean</td>\n",
       "      <td>3</td>\n",
       "    </tr>\n",
       "    <tr>\n",
       "      <th>4</th>\n",
       "      <td>Tomate</td>\n",
       "      <td>4</td>\n",
       "    </tr>\n",
       "    <tr>\n",
       "      <th>5</th>\n",
       "      <td>Pasta</td>\n",
       "      <td>5</td>\n",
       "    </tr>\n",
       "    <tr>\n",
       "      <th>6</th>\n",
       "      <td>Beer</td>\n",
       "      <td>6</td>\n",
       "    </tr>\n",
       "    <tr>\n",
       "      <th>7</th>\n",
       "      <td>French fries</td>\n",
       "      <td>7</td>\n",
       "    </tr>\n",
       "    <tr>\n",
       "      <th>8</th>\n",
       "      <td>Ice cream</td>\n",
       "      <td>8</td>\n",
       "    </tr>\n",
       "  </tbody>\n",
       "</table>\n",
       "</div>"
      ],
      "text/plain": [
       "    ProductName  product_id\n",
       "1          Rice           1\n",
       "2         Flour           2\n",
       "3          Bean           3\n",
       "4        Tomate           4\n",
       "5         Pasta           5\n",
       "6          Beer           6\n",
       "7  French fries           7\n",
       "8     Ice cream           8"
      ]
     },
     "execution_count": 109,
     "metadata": {},
     "output_type": "execute_result"
    }
   ],
   "source": [
    "df_product"
   ]
  }
 ],
 "metadata": {
  "kernelspec": {
   "display_name": "Python 3",
   "language": "python",
   "name": "python3"
  },
  "language_info": {
   "codemirror_mode": {
    "name": "ipython",
    "version": 3
   },
   "file_extension": ".py",
   "mimetype": "text/x-python",
   "name": "python",
   "nbconvert_exporter": "python",
   "pygments_lexer": "ipython3",
   "version": "3.8.8"
  }
 },
 "nbformat": 4,
 "nbformat_minor": 5
}
