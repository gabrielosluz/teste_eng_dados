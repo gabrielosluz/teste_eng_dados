{
 "cells": [
  {
   "cell_type": "code",
   "execution_count": 3,
   "id": "d011cad4",
   "metadata": {},
   "outputs": [],
   "source": [
    "import pyspark\n",
    "from pyspark import SparkContext as spark\n",
    "from pyspark.sql import SparkSession, SQLContext\n",
    "\n",
    "spark = SparkSession.builder.enableHiveSupport().getOrCreate()\n",
    "sc = spark.sparkContext"
   ]
  },
  {
   "cell_type": "code",
   "execution_count": 4,
   "id": "e38c3b99",
   "metadata": {},
   "outputs": [],
   "source": [
    "df = spark.read.json('transacoes2.json')"
   ]
  },
  {
   "cell_type": "code",
   "execution_count": 16,
   "id": "c708ce43",
   "metadata": {},
   "outputs": [
    {
     "name": "stdout",
     "output_type": "stream",
     "text": [
      "+--------------------+\n",
      "|     _corrupt_record|\n",
      "+--------------------+\n",
      "|[\"{\"transacoes\": ...|\n",
      "+--------------------+\n",
      "\n"
     ]
    }
   ],
   "source": [
    "df.show()"
   ]
  },
  {
   "cell_type": "code",
   "execution_count": 21,
   "id": "1d44eac8",
   "metadata": {},
   "outputs": [],
   "source": [
    "import json"
   ]
  },
  {
   "cell_type": "code",
   "execution_count": 43,
   "id": "b6a92d00",
   "metadata": {},
   "outputs": [],
   "source": [
    "j = [\n",
    "    {\n",
    "       \"transacao_id\":1,\n",
    "       \"total_bruto\":3000,\n",
    "       \"desconto_percentual\":6.99\n",
    "    },\n",
    "    {\n",
    "       \"transacao_id\":2,\n",
    "       \"total_bruto\":57989,\n",
    "       \"desconto_percentual\":1.45\n",
    "    },\n",
    "    {\n",
    "       \"transacao_id\":4,\n",
    "       \"total_bruto\":1,\n",
    "       \"desconto_percentual\":\"None\"\n",
    "    },\n",
    "    {\n",
    "       \"transacao_id\":5,\n",
    "       \"total_bruto\":34,\n",
    "       \"desconto_percentual\":0.0\n",
    "    }\n",
    " ]"
   ]
  },
  {
   "cell_type": "code",
   "execution_count": 44,
   "id": "54b3c223",
   "metadata": {},
   "outputs": [],
   "source": [
    "a=[json.dumps(j)]"
   ]
  },
  {
   "cell_type": "code",
   "execution_count": 45,
   "id": "d5e77fef",
   "metadata": {},
   "outputs": [],
   "source": [
    "jsonRDD = sc.parallelize(a)"
   ]
  },
  {
   "cell_type": "code",
   "execution_count": 46,
   "id": "55089994",
   "metadata": {},
   "outputs": [],
   "source": [
    "df = spark.read.json(jsonRDD)"
   ]
  },
  {
   "cell_type": "code",
   "execution_count": 47,
   "id": "947a4cf8",
   "metadata": {},
   "outputs": [
    {
     "name": "stdout",
     "output_type": "stream",
     "text": [
      "+-------------------+-----------+------------+\n",
      "|desconto_percentual|total_bruto|transacao_id|\n",
      "+-------------------+-----------+------------+\n",
      "|               6.99|       3000|           1|\n",
      "|               1.45|      57989|           2|\n",
      "|               None|          1|           4|\n",
      "|                0.0|         34|           5|\n",
      "+-------------------+-----------+------------+\n",
      "\n"
     ]
    }
   ],
   "source": [
    "df.show()"
   ]
  },
  {
   "cell_type": "code",
   "execution_count": 48,
   "id": "eec9ef39",
   "metadata": {},
   "outputs": [],
   "source": [
    "from pyspark.sql.functions import col,when"
   ]
  },
  {
   "cell_type": "code",
   "execution_count": 49,
   "id": "f1f696c0",
   "metadata": {},
   "outputs": [
    {
     "name": "stdout",
     "output_type": "stream",
     "text": [
      "+-------------------+-----------+------------+------------------+\n",
      "|desconto_percentual|total_bruto|transacao_id|          desconto|\n",
      "+-------------------+-----------+------------+------------------+\n",
      "|               6.99|       3000|           1|209.70000000000002|\n",
      "|               1.45|      57989|           2| 840.8404999999999|\n",
      "|               None|          1|           4|              null|\n",
      "|                0.0|         34|           5|               0.0|\n",
      "+-------------------+-----------+------------+------------------+\n",
      "\n"
     ]
    }
   ],
   "source": [
    "df.withColumn(\"desconto\", col(\"total_bruto\")*(col(\"desconto_percentual\")/100)).show()"
   ]
  },
  {
   "cell_type": "code",
   "execution_count": 50,
   "id": "ce859e1b",
   "metadata": {},
   "outputs": [],
   "source": [
    "df2 = df.withColumn(\"desconto\", col(\"total_bruto\")*(col(\"desconto_percentual\")/100))"
   ]
  },
  {
   "cell_type": "code",
   "execution_count": 54,
   "id": "f35e1ebd",
   "metadata": {},
   "outputs": [],
   "source": [
    "df3 = df2.withColumn(\"total_per_id\", col(\"total_bruto\") - col(\"desconto\"))"
   ]
  },
  {
   "cell_type": "code",
   "execution_count": 55,
   "id": "dd049ba4",
   "metadata": {},
   "outputs": [
    {
     "name": "stdout",
     "output_type": "stream",
     "text": [
      "+-------------------+-----------+------------+------------------+------------+\n",
      "|desconto_percentual|total_bruto|transacao_id|          desconto|total_per_id|\n",
      "+-------------------+-----------+------------+------------------+------------+\n",
      "|               6.99|       3000|           1|209.70000000000002|      2790.3|\n",
      "|               1.45|      57989|           2| 840.8404999999999|  57148.1595|\n",
      "|               None|          1|           4|              null|        null|\n",
      "|                0.0|         34|           5|               0.0|        34.0|\n",
      "+-------------------+-----------+------------+------------------+------------+\n",
      "\n"
     ]
    }
   ],
   "source": [
    "df3.show()"
   ]
  },
  {
   "cell_type": "code",
   "execution_count": 69,
   "id": "4d409245",
   "metadata": {},
   "outputs": [
    {
     "name": "stdout",
     "output_type": "stream",
     "text": [
      "+------------------+\n",
      "| sum(total_per_id)|\n",
      "+------------------+\n",
      "|59972.459500000004|\n",
      "+------------------+\n",
      "\n"
     ]
    }
   ],
   "source": [
    "df3.groupBy().agg(sum(col(\"total_per_id\"))).show()"
   ]
  }
 ],
 "metadata": {
  "kernelspec": {
   "display_name": "Python 3",
   "language": "python",
   "name": "python3"
  },
  "language_info": {
   "codemirror_mode": {
    "name": "ipython",
    "version": 3
   },
   "file_extension": ".py",
   "mimetype": "text/x-python",
   "name": "python",
   "nbconvert_exporter": "python",
   "pygments_lexer": "ipython3",
   "version": "3.8.8"
  }
 },
 "nbformat": 4,
 "nbformat_minor": 5
}
